{
  "nbformat": 4,
  "nbformat_minor": 0,
  "metadata": {
    "colab": {
      "provenance": [],
      "authorship_tag": "ABX9TyOj+hvZwcI4FjDZkKCISJhG",
      "include_colab_link": true
    },
    "kernelspec": {
      "name": "python3",
      "display_name": "Python 3"
    },
    "language_info": {
      "name": "python"
    }
  },
  "cells": [
    {
      "cell_type": "markdown",
      "metadata": {
        "id": "view-in-github",
        "colab_type": "text"
      },
      "source": [
        "<a href=\"https://colab.research.google.com/github/esrasucu/hu-bby162-2024/blob/main/adam%C4%B1Asmaca.ipynb\" target=\"_parent\"><img src=\"https://colab.research.google.com/assets/colab-badge.svg\" alt=\"Open In Colab\"/></a>"
      ]
    },
    {
      "source": [
        "###hangman\n",
        "import random\n",
        "\n",
        "def adam_asmaca():\n",
        "  # Seviye seçimi\n",
        "  seviye = input(\"Seviye seçiniz (Kolay, Orta, Zor): \").lower()\n",
        "  if seviye == \"kolay\":\n",
        "    can = 7\n",
        "  elif seviye == \"orta\":\n",
        "    can = 5\n",
        "  elif seviye == \"zor\":\n",
        "    can = 3\n",
        "  else:\n",
        "    print(\"Geçersiz seviye seçimi.\")\n",
        "    return\n",
        "\n",
        "  # Kelime listesi\n",
        "  kelimeler = [\"bisiklet\",\"triatlon\",\"yüzme\",\"koşu\"]\n",
        "\n",
        "  # Kelime seçimi\n",
        "  kelime = random.choice(kelimeler)\n",
        "\n",
        "  # Harf listesi\n",
        "  harfler = list(kelime)\n",
        "\n",
        "  # Tahmin edilen harf listesi\n",
        "  tahmin_harfler = []\n",
        "\n",
        "  # Oyun döngüsü\n",
        "  while True:\n",
        "    # Kelime durumunu göster\n",
        "    kelime_durumu = [\"_\" if harf not in tahmin_harfler else harf for harf in kelime]\n",
        "    print(\"Kelime:\", \" \".join(kelime_durumu))\n",
        "\n",
        "    # Tahmin edilen harfleri göster\n",
        "    print(\"Tahmin edilen harfler:\", \", \".join(tahmin_harfler))\n",
        "\n",
        "    # Kalan can sayısını göster\n",
        "    print(\"Kalan can:\", can)\n",
        "\n",
        "    # Harf tahmini\n",
        "    tahmin = input(\"Bir harf tahmin edin: \").lower()\n",
        "\n",
        "    # Tahmin edilen harfleri güncelle\n",
        "    tahmin_harfler.append(tahmin)\n",
        "\n",
        "    # Tahmin doğruysa\n",
        "    if tahmin in harfler:\n",
        "      print(\"Doğru tahmin!\")\n",
        "    else:\n",
        "      print(\"Yanlış tahmin!\")\n",
        "      can -= 1\n",
        "\n",
        "    # Oyun durumu kontrolü\n",
        "    if \"_\" not in kelime_durumu:\n",
        "      print(\"Kazandınız!\")\n",
        "      break\n",
        "    elif can == 0:\n",
        "      print(\"Kaybettiniz!\")\n",
        "      print(\"Kelime:\", kelime)\n",
        "      break\n",
        "\n",
        "  # Yeniden oynama seçeneği\n",
        "  tekrar_oyna = input(\"Tekrar oynamak ister misiniz? (e/h):"
      ],
      "cell_type": "code",
      "metadata": {
        "id": "VTz_NEYZD-yY"
      },
      "execution_count": null,
      "outputs": []
    }
  ]
}