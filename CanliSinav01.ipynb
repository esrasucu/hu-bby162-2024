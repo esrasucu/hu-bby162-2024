{
  "nbformat": 4,
  "nbformat_minor": 0,
  "metadata": {
    "colab": {
      "provenance": [],
      "include_colab_link": true
    },
    "kernelspec": {
      "name": "python3",
      "display_name": "Python 3"
    },
    "language_info": {
      "name": "python"
    }
  },
  "cells": [
    {
      "cell_type": "markdown",
      "metadata": {
        "id": "view-in-github",
        "colab_type": "text"
      },
      "source": [
        "<a href=\"https://colab.research.google.com/github/esrasucu/hu-bby162-2024/blob/main/CanliSinav01.ipynb\" target=\"_parent\"><img src=\"https://colab.research.google.com/assets/colab-badge.svg\" alt=\"Open In Colab\"/></a>"
      ]
    },
    {
      "cell_type": "markdown",
      "source": [
        "**Soru 2:** Klavyeden girilen bir insan ismindeki harf sayısına göre ekrana bir cümle yazdırınız. Örneğin 4 harfli bir isim girildiğinde ekrana \"Dört dörtlük bir isim\", 6 harfli bir isim girildiğinde ekrana \"Altıncı hissin kuvvetli\" yazılabilmelidir. Klavyeden üçten az ya da yediden çok harfe sahip bir isim girildiğinde ise ekrana \"isminiz sisteme uygun değildir\" mesajı yazdırılmalıdır."
      ],
      "metadata": {
        "id": "-TX7J7WqLEL8"
      }
    },
    {
      "cell_type": "markdown",
      "source": [
        "**Canlı Sınav 01'e hoşgeldiniz!**"
      ],
      "metadata": {
        "id": "ItmuxWgBbkC1"
      }
    },
    {
      "cell_type": "markdown",
      "source": [
        "Canlı sınav, bilgisayar laboratuvarında bilgisayar başında yapılan ve teslim edilen projeyi ifade etmektedir. Canlı sınavda yazmış olduğunuz kodlar sizin sorumluluğunuzdadır ve gerekirse hangi kodu neden yazdığınızı açık bir şekilde anlatabilmeniz gerekmektedir. Canlı sınav sırasında İnternet üzerindeki kaynaklar kullanılabilir ancak başka bir kişiden destek alınamaz.\n",
        "\n",
        "Canlı sınavın teslim şekli önceki proje çalışmasında olduğu gibidir. \"Canlı Sınav 01\" adlı Colab not defterinin bir kopyasını çıkarmalı, size ait olan bu kopya üzerinde soruları cevaplamalı, GitHub'daki ders deponuza size ait kopyayı yüklemeli ve not defterinin adresini metin alanına yazarak göndermelisiniz.\n",
        "\n",
        "Canlı sınavın doğru şekilde tamamlanması da sınavın önemli bir parçasıdır. Sınav için gönderdiğiniz adresi kontrol ediniz ve doğru dosyayı depoya yerleştirdiği bizden emin olunuz. Teslim sürecinde yapılan hatalar sınavdan 0 puan almanıza yol açabilir!\n",
        "\n",
        "Önemli Not: Soruları cecaplarken sadece şu ana kadar öğrendiğiniz kod yapılarını kullanmanız gerekmektedir!!!"
      ],
      "metadata": {
        "id": "KGjdjR5RbTgH"
      }
    },
    {
      "cell_type": "markdown",
      "source": [
        "**----- Sorular -----**"
      ],
      "metadata": {
        "id": "zBvdh4s8cOqM"
      }
    },
    {
      "cell_type": "markdown",
      "source": [
        "**Soru 1:** Bir giriş sisteminde kullanıcı adı olarak eposta ya da telefon numarası kullanılabilmektedir. Şifre ise tektir. Klavyeden doğru kullanıcı adı ve şifre girildiğinde ekrana \" Sisteme giriş yaptınız\" , yanlış kullanıcı adı girildiğinde \"kullanıcı adı hatalı\" , yanlış şifre girildiğinde \"şifre hatalı\" bilgisi yazdırılmalıdır. Kullanıcı adı hatalı ise şifre sorma adımına geçilmemelidir."
      ],
      "metadata": {
        "id": "ma0FVqgQiLBe"
      }
    },
    {
      "cell_type": "code",
      "source": [
        "#Soru 1 bu bölümde kodlanmalıdır\n",
        "eposta = \"a@a.net\"\n",
        "tel = \"532\"\n",
        "sifre = \"123\"\n",
        "eposta == tel\n",
        "kulEposta= input(\" Epostanızı giriniz.\")\n",
        "kulSifre=input(\"Şifrenizi giriniz.\")\n",
        "sonuc=(kulEposta==eposta) or (kulSifre==sifre)\n",
        "print(\"sisteme giriş yaptınız.\")\n",
        "if kulEposta != eposta:\n",
        "  print(\"Kullanıcı adı hatalı.\")\n",
        "elif kulSifre != sifre:\n",
        "  print(\"Şifre hatalı!\")\n"
      ],
      "metadata": {
        "id": "Fj7wkLMcjp_7"
      },
      "execution_count": null,
      "outputs": []
    },
    {
      "cell_type": "markdown",
      "source": [
        "**Soru 2:** Klavyeden girilen bir insan ismindeki harf sayısına göre ekrana bir cümle yazdırınız. Örneğin 4 harfli bir isim girildiğinde ekrana \"Dört dörtlük bir isim\", 6 harfli bir isim girildiğinde ekrana \"Altıncı hissin kuvvetli\" yazılabilmelidir. Klavyeden üçten az ya da yediden çok harfe sahip bir isim girildiğinde ise ekrana \"isminiz sisteme uygun değildir\" mesajı yazdırılmalıdır."
      ],
      "metadata": {
        "id": "uZDiXJARgK4o"
      }
    },
    {
      "cell_type": "code",
      "source": [
        "#Soru 2 bu bölümde kodlanmalıdır\n",
        "isim= input(\"İsim giriniz.\")\n",
        "print(len(isim))\n",
        "if 3>int(isim)<7\n",
        "  print(\"İsminiz sisteme uygun değildir.\")\n",
        "\n"
      ],
      "metadata": {
        "id": "no7Zd1ZCh5U3",
        "colab": {
          "base_uri": "https://localhost:8080/",
          "height": 106
        },
        "outputId": "2f238a16-fde5-462b-ac73-a5017e1a2ea1"
      },
      "execution_count": 31,
      "outputs": [
        {
          "output_type": "error",
          "ename": "SyntaxError",
          "evalue": "expected ':' (<ipython-input-31-b1cfbbaf58f0>, line 4)",
          "traceback": [
            "\u001b[0;36m  File \u001b[0;32m\"<ipython-input-31-b1cfbbaf58f0>\"\u001b[0;36m, line \u001b[0;32m4\u001b[0m\n\u001b[0;31m    if 3>int(isim)<7\u001b[0m\n\u001b[0m                    ^\u001b[0m\n\u001b[0;31mSyntaxError\u001b[0m\u001b[0;31m:\u001b[0m expected ':'\n"
          ]
        }
      ]
    },
    {
      "cell_type": "markdown",
      "source": [
        "**Soru 3:** 5 öğenin yer aldığı bir kelime tahmin oyunu oluşturun. Kelimeler bir liste içinde yer almalıdır. Klavyeden girilen kelime liste içinde yer alan kelimelerden biri ise ekrana \"bravo oyunu kazandınız\", aksi halde ise ekrana \"üzgünüm oyunu kaybettiniz\" mesajı gelmelidir."
      ],
      "metadata": {
        "id": "HnIqbjcCeNEV"
      }
    },
    {
      "cell_type": "code",
      "source": [
        "#Soru 3 bu bölümde kodlanmalıdır\n",
        "kelimeler= (\"programlama\",\"dersi\",\"biraz\",\"zorluyor\",\"galiba\")\n",
        "kelime = input(\"Bir kelime tahmin ediniz\")\n",
        "if kelime in kelimeler:\n",
        "  print(\"Bravo oyunuz kazandınız!\")\n",
        "else:\n",
        "  print(\"Üzgünüm oyunu kaybettiniz.\")\n",
        "\n",
        "\n"
      ],
      "metadata": {
        "id": "SjzG5g3ffTyv",
        "colab": {
          "base_uri": "https://localhost:8080/"
        },
        "outputId": "d3e2ca97-047f-4cad-a1ae-43e24a73b15c"
      },
      "execution_count": 35,
      "outputs": [
        {
          "output_type": "stream",
          "name": "stdout",
          "text": [
            "Bir kelime tahmin edinizesra\n",
            "Üzgünüm oyunu kaybettiniz.\n"
          ]
        }
      ]
    },
    {
      "cell_type": "markdown",
      "source": [
        "**Soru 4:** 5 öğenin yer aldığı bir sözlük oluşturun. Bu sözlükte 5 kelime ve bu 5 kelimenin anlamları yer almalıdır. Klavyeden girilen anahtar (key) eğer sözlükte varsa kelimenin anlamı ekrana yazdırılmalıdır. Eğer anahtar sözlükte yoksa sözlükte aranan kelimenin olmadığı bilgisi ekrana yazdırılmalıdır."
      ],
      "metadata": {
        "id": "p49cZFjJcXoS"
      }
    },
    {
      "cell_type": "code",
      "execution_count": 4,
      "metadata": {
        "id": "3whYCDz3a8QZ",
        "colab": {
          "base_uri": "https://localhost:8080/"
        },
        "outputId": "ea72171a-75fa-4511-9845-319d28c282de"
      },
      "outputs": [
        {
          "output_type": "stream",
          "name": "stdout",
          "text": [
            "{'perestiş': 'Taparcasına sevme hali.', 'saye': 'Farsça gölge demektir.', 'nahif': 'Cılız,sevimsiz,zayıf.', 'narin': 'Kırılacak denli ince.', 'merhamet': 'Acıma duygusu.'}\n"
          ]
        }
      ],
      "source": [
        "sözlük = {\n",
        "    \"perestiş\": \"Taparcasına sevme hali.\",\n",
        "    \"saye\": \"Farsça gölge demektir.\",\n",
        "    \"nahif\": \"Cılız,sevimsiz,zayıf.\",\n",
        "    \"narin\": \"Kırılacak denli ince.\",\n",
        "    \"merhamet\":\"Acıma duygusu.\"}\n",
        "print(sözlük)"
      ]
    },
    {
      "cell_type": "code",
      "source": [
        "anahtar= input(\"Aramak istediğiniz terimi ekrana giriniz.\")\n",
        "if anahtar in sözlük.keys():\n",
        "  print(sözlük[anahtar])\n",
        "else anahtar != sözlük\n",
        "print(Aranan kelime bulunamamıştır.)\n"
      ],
      "metadata": {
        "colab": {
          "base_uri": "https://localhost:8080/",
          "height": 106
        },
        "id": "kNL6pW_HFrnD",
        "outputId": "3db5e91d-6aac-4a78-d34c-1bd9a36a538b"
      },
      "execution_count": 36,
      "outputs": [
        {
          "output_type": "error",
          "ename": "SyntaxError",
          "evalue": "expected ':' (<ipython-input-36-08d3d1eb41c1>, line 4)",
          "traceback": [
            "\u001b[0;36m  File \u001b[0;32m\"<ipython-input-36-08d3d1eb41c1>\"\u001b[0;36m, line \u001b[0;32m4\u001b[0m\n\u001b[0;31m    else anahtar != sözlük\u001b[0m\n\u001b[0m         ^\u001b[0m\n\u001b[0;31mSyntaxError\u001b[0m\u001b[0;31m:\u001b[0m expected ':'\n"
          ]
        }
      ]
    }
  ]
}