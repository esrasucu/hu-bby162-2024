{
  "nbformat": 4,
  "nbformat_minor": 0,
  "metadata": {
    "colab": {
      "provenance": [],
      "authorship_tag": "ABX9TyPeIP8Fa8c2ba051tl9qOIT",
      "include_colab_link": true
    },
    "kernelspec": {
      "name": "python3",
      "display_name": "Python 3"
    },
    "language_info": {
      "name": "python"
    }
  },
  "cells": [
    {
      "cell_type": "markdown",
      "metadata": {
        "id": "view-in-github",
        "colab_type": "text"
      },
      "source": [
        "<a href=\"https://colab.research.google.com/github/esrasucu/hu-bby162-2024/blob/main/yaz%C4%B1_tura.ipynb\" target=\"_parent\"><img src=\"https://colab.research.google.com/assets/colab-badge.svg\" alt=\"Open In Colab\"/></a>"
      ]
    },
    {
      "cell_type": "code",
      "execution_count": 1,
      "metadata": {
        "colab": {
          "base_uri": "https://localhost:8080/"
        },
        "id": "w8IbUbN3_n7U",
        "outputId": "f8aee1e7-cc30-453f-d52e-da75f328af43"
      },
      "outputs": [
        {
          "output_type": "stream",
          "name": "stdout",
          "text": [
            "hello world\n"
          ]
        }
      ],
      "source": [
        "print ( \"hello world\")"
      ]
    },
    {
      "cell_type": "code",
      "source": [],
      "metadata": {
        "id": "jQwHyx53AiSf"
      },
      "execution_count": null,
      "outputs": []
    },
    {
      "source": [
        "import random\n",
        "\n",
        "def yazı_tura():\n",
        "  \"\"\"\n",
        "  Simulates a coin toss and returns True if the result is \"Yazı\".\n",
        "  \"\"\"\n",
        "\n",
        "  # Generate a random number between 0 and 1.\n",
        "  random_number = random.random()\n",
        "\n",
        "  # Return True if the number is less than 0.5.\n",
        "  return random_number < 0.5\n",
        "\n",
        "# Initialize a counter to track the number of \"Yazı\" outcomes.\n",
        "yazı_count = 0\n",
        "\n",
        "# Loop until we get 3 \"Yazı\" outcomes.\n",
        "while yazı_count < 3:\n",
        "  # Simulate a coin toss.\n",
        "  if yazı_tura():\n",
        "    # Increment the counter if the outcome is \"Yazı\".\n",
        "    yazı_count += 1\n",
        "    # Print \"Yazı\".\n",
        "    print(\"Yazı\")\n",
        "\n",
        "# Print a message indicating that we have obtained 3 \"Yazı\" outcomes.\n",
        "print(\"Üç kere yazı geldi.\")"
      ],
      "cell_type": "code",
      "metadata": {
        "colab": {
          "base_uri": "https://localhost:8080/"
        },
        "id": "XP1HN-dZDg3X",
        "outputId": "fb35ef34-65b8-48a3-e192-302329c62c2b"
      },
      "execution_count": 12,
      "outputs": [
        {
          "output_type": "stream",
          "name": "stdout",
          "text": [
            "Yazı\n",
            "Yazı\n",
            "Yazı\n",
            "Üç kere yazı geldi.\n"
          ]
        }
      ]
    }
  ]
}