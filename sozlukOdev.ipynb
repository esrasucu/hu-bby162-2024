{
  "nbformat": 4,
  "nbformat_minor": 0,
  "metadata": {
    "colab": {
      "provenance": [],
      "authorship_tag": "ABX9TyOkmEe/9I9Tg293h0hYF9Uv",
      "include_colab_link": true
    },
    "kernelspec": {
      "name": "python3",
      "display_name": "Python 3"
    },
    "language_info": {
      "name": "python"
    }
  },
  "cells": [
    {
      "cell_type": "markdown",
      "metadata": {
        "id": "view-in-github",
        "colab_type": "text"
      },
      "source": [
        "<a href=\"https://colab.research.google.com/github/esrasucu/hu-bby162-2024/blob/main/sozlukOdev.ipynb\" target=\"_parent\"><img src=\"https://colab.research.google.com/assets/colab-badge.svg\" alt=\"Open In Colab\"/></a>"
      ]
    },
    {
      "cell_type": "code",
      "execution_count": 3,
      "metadata": {
        "colab": {
          "base_uri": "https://localhost:8080/"
        },
        "id": "LNVRqKe24bHH",
        "outputId": "80aed011-b671-43ca-dd33-74dfc9f6a066"
      },
      "outputs": [
        {
          "output_type": "stream",
          "name": "stdout",
          "text": [
            "['perestiş = Taparcasına sevme hali.', 'lafügüzaf = Boş, anlamsız veya gereksiz şeyler sözler söyleme eğiliminde olan kişileri veya bu tür sözleri ifade eden bir sıfattır.', 'saye = Farsça gölge demektir.', 'apansız = Ansızın, umulmadık ve beklenmedik bir zaman.', 'narin = Kırılacak denli ince.', 'hüzün = İçsel duygulanım, gönül üzgünlüğü, iç kapanıklığı,üzüntü.', 'sergüzeşt = Serüven, macera.', 'nahif= Cılız, çelimsiz, zayıf.', 'merhamet= Acıma duygusu.', 'buhran= Bunalım, bunluk.']\n"
          ]
        }
      ],
      "source": [
        "####sözlük\n",
        "\n",
        "sözlük=[\"perestiş = Taparcasına sevme hali.\",\n",
        "        \"lafügüzaf = Boş, anlamsız veya gereksiz şeyler sözler söyleme eğiliminde olan kişileri veya bu tür sözleri ifade eden bir sıfattır.\",\n",
        "        \"saye = Farsça gölge demektir.\",\n",
        "        \"apansız = Ansızın, umulmadık ve beklenmedik bir zaman.\",\n",
        "        \"narin = Kırılacak denli ince.\",\n",
        "        \"hüzün = İçsel duygulanım, gönül üzgünlüğü, iç kapanıklığı,üzüntü.\",\n",
        "        \"sergüzeşt = Serüven, macera.\",\n",
        "        \"nahif= Cılız, çelimsiz, zayıf.\",\n",
        "        \"merhamet= Acıma duygusu.\",\n",
        "        \"buhran= Bunalım, bunluk.\"]\n",
        "print(sözlük)"
      ]
    },
    {
      "cell_type": "code",
      "source": [
        "print(sözlük)\n",
        "yenikelime= input(\"Yeni kelimeyi giriniz:\")\n",
        "yenianlam= input( \"Bu kelimenin açıklamasını giriniz:\")\n",
        "print(sözlük)"
      ],
      "metadata": {
        "colab": {
          "base_uri": "https://localhost:8080/"
        },
        "id": "ORdlSKVDDbHT",
        "outputId": "9cf3e548-8d6a-4868-f402-9304cefd85eb"
      },
      "execution_count": null,
      "outputs": [
        {
          "output_type": "stream",
          "name": "stdout",
          "text": [
            "['perestiş = Taparcasına sevme hali.', 'lafügüzaf = Boş, anlamsız veya gereksiz şeyler sözler söyleme eğiliminde olan kişileri veya bu tür sözleri ifade eden bir sıfattır.', 'saye = Farsça gölge demektir.', 'apansız = Ansızın, umulmadık ve beklenmedik bir zaman.', 'narin = Kırılacak denli ince.', 'hüzün = İçsel duygulanım, gönül üzgünlüğü, iç kapanıklığı,üzüntü.', 'sergüzeşt = Serüven, macera.', 'nahif= Cılız, çelimsiz, zayıf.', 'merhamet= Acıma duygusu.', 'buhran= Bunalım, bunluk.']\n"
          ]
        }
      ]
    },
    {
      "cell_type": "code",
      "source": [
        "print(sözlük)\n",
        "silinecek= input(\"Silmek istediğiniz öğeyi giriniz=\")\n",
        "del sözlük[silinecek]\n",
        "print(\"Öğe silindi.\")\n",
        "print(sözlük)"
      ],
      "metadata": {
        "id": "youx-yksE73P"
      },
      "execution_count": null,
      "outputs": []
    },
    {
      "cell_type": "code",
      "source": [
        "print(sözlük)\n",
        "güncellenecekterim=\"Güncellemek istediğiniz öğeyi giriniz:\"\n",
        "güncellenecekanlam=\"Güncel anlamı giriniz:\"\n",
        "\n"
      ],
      "metadata": {
        "id": "TvQNxanoRVQD"
      },
      "execution_count": null,
      "outputs": []
    },
    {
      "cell_type": "code",
      "source": [
        "arananTerim= input(\" Aramak istediğiniz terimi giriniz:\")\n",
        "print(sözlük[arananTerim])"
      ],
      "metadata": {
        "id": "ubkVVHyeUVEb"
      },
      "execution_count": null,
      "outputs": []
    }
  ]
}