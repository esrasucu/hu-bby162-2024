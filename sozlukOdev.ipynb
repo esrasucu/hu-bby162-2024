{
  "nbformat": 4,
  "nbformat_minor": 0,
  "metadata": {
    "colab": {
      "provenance": [],
      "authorship_tag": "ABX9TyMWAl5NY/+6/zIXGY7Vy8RB",
      "include_colab_link": true
    },
    "kernelspec": {
      "name": "python3",
      "display_name": "Python 3"
    },
    "language_info": {
      "name": "python"
    }
  },
  "cells": [
    {
      "cell_type": "markdown",
      "metadata": {
        "id": "view-in-github",
        "colab_type": "text"
      },
      "source": [
        "<a href=\"https://colab.research.google.com/github/esrasucu/hu-bby162-2024/blob/main/sozlukOdev.ipynb\" target=\"_parent\"><img src=\"https://colab.research.google.com/assets/colab-badge.svg\" alt=\"Open In Colab\"/></a>"
      ]
    },
    {
      "cell_type": "code",
      "execution_count": 16,
      "metadata": {
        "colab": {
          "base_uri": "https://localhost:8080/"
        },
        "id": "LNVRqKe24bHH",
        "outputId": "e0e5ac2d-32be-4a51-e790-7c486755a63b"
      },
      "outputs": [
        {
          "output_type": "stream",
          "name": "stdout",
          "text": [
            "{'perestiş': 'Taparcasına sevme hali.', 'lafügüzaf': 'Boş, anlamsız veya gereksiz şeyler sözler söyleme eğiliminde olan kişileri veya bu tür sözleri ifade eden bir sıfattır.', 'saye': 'Farsça gölge demektir.', 'apansız': 'Ansızın, umulmadık ve beklenmedik bir zaman.', 'narin': 'Kırılacak denli ince.', 'hüzün ': 'İçsel duygulanım, gönül üzgünlüğü, iç kapanıklığı,üzüntü.', 'sergüzeşt': 'Serüven, macera.', 'nahif': 'Cılız, çelimsiz, zayıf.', 'merhamet': 'Acıma duygusu.', 'buhran': 'Bunalım, bunluk.', 'kadim': 'Pek çok eskiye uzanan, öncesiz.', 'perişan': 'Dağınık, düzensiz, karmakarışık olan; berduş.'}\n"
          ]
        }
      ],
      "source": [
        "####sözlük\n",
        "\n",
        "sözlük={\"perestiş\" : \"Taparcasına sevme hali.\",\n",
        "        \"lafügüzaf\" : \"Boş, anlamsız veya gereksiz şeyler sözler söyleme eğiliminde olan kişileri veya bu tür sözleri ifade eden bir sıfattır.\",\n",
        "        \"saye\" : \"Farsça gölge demektir.\",\n",
        "        \"apansız\" : \"Ansızın, umulmadık ve beklenmedik bir zaman.\",\n",
        "        \"narin\" : \"Kırılacak denli ince.\",\n",
        "        \"hüzün \": \"İçsel duygulanım, gönül üzgünlüğü, iç kapanıklığı,üzüntü.\",\n",
        "        \"sergüzeşt\": \"Serüven, macera.\",\n",
        "        \"nahif\" : \"Cılız, çelimsiz, zayıf.\",\n",
        "        \"merhamet\" : \"Acıma duygusu.\",\n",
        "        \"buhran\" : \"Bunalım, bunluk.\",\n",
        "        \"kadim\" : \"Pek çok eskiye uzanan, öncesiz.\",\n",
        "        \"perişan\" : \"Dağınık, düzensiz, karmakarışık olan; berduş.\"}\n",
        "print(sözlük)"
      ]
    },
    {
      "cell_type": "code",
      "source": [
        "print(sözlük)\n",
        "yenikelime= input(\"Yeni kelimeyi giriniz:\")\n",
        "yenianlam= input( \"Bu kelimenin açıklamasını giriniz:\")\n",
        "sözlük[yenikelime]= yenianlam\n",
        "print(\"Yeni kelime eklenmiş sözlük:\")\n",
        "print(sözlük)"
      ],
      "metadata": {
        "colab": {
          "base_uri": "https://localhost:8080/"
        },
        "id": "ORdlSKVDDbHT",
        "outputId": "8b425a07-959f-4d4c-e50a-9a0fa2e71652"
      },
      "execution_count": 24,
      "outputs": [
        {
          "output_type": "stream",
          "name": "stdout",
          "text": [
            "{'perestiş': 'Taparcasına sevme hali.', 'lafügüzaf': 'Boş, anlamsız veya gereksiz şeyler sözler söyleme eğiliminde olan kişileri veya bu tür sözleri ifade eden bir sıfattır.', 'saye': 'Farsça gölge demektir.', 'apansız': 'Ansızın, umulmadık ve beklenmedik bir zaman.', 'hüzün ': 'İçsel duygulanım, gönül üzgünlüğü, iç kapanıklığı,üzüntü.', 'sergüzeşt': 'Serüven, macera.', 'nahif': 'Cılız, çelimsiz, zayıf.', 'merhamet': 'Acıma duygusu.', 'buhran': 'Bunalım, bunluk.', 'kadim': 'Pek çok eskiye uzanan, öncesiz.', 'perişan': 'Dağınık, düzensiz, karmakarışık olan; berduş.'}\n",
            "Yeni kelimeyi giriniz:feriştah\n",
            "Bu kelimenin açıklamasını giriniz:işinin ehli işinde iyi olan\n",
            "Yeni kelime eklenmiş sözlük:\n",
            "{'perestiş': 'Taparcasına sevme hali.', 'lafügüzaf': 'Boş, anlamsız veya gereksiz şeyler sözler söyleme eğiliminde olan kişileri veya bu tür sözleri ifade eden bir sıfattır.', 'saye': 'Farsça gölge demektir.', 'apansız': 'Ansızın, umulmadık ve beklenmedik bir zaman.', 'hüzün ': 'İçsel duygulanım, gönül üzgünlüğü, iç kapanıklığı,üzüntü.', 'sergüzeşt': 'Serüven, macera.', 'nahif': 'Cılız, çelimsiz, zayıf.', 'merhamet': 'Acıma duygusu.', 'buhran': 'Bunalım, bunluk.', 'kadim': 'Pek çok eskiye uzanan, öncesiz.', 'perişan': 'Dağınık, düzensiz, karmakarışık olan; berduş.', 'feriştah': 'işinin ehli işinde iyi olan'}\n"
          ]
        }
      ]
    },
    {
      "cell_type": "code",
      "source": [
        "print(sözlük)\n",
        "silinecek= input(\"Silmek istediğiniz öğeyi giriniz=\")\n",
        "del sözlük[silinecek]\n",
        "print(\"Öğe silindi.\")\n",
        "print(sözlük)"
      ],
      "metadata": {
        "colab": {
          "base_uri": "https://localhost:8080/"
        },
        "id": "youx-yksE73P",
        "outputId": "87b7e941-b187-4b9a-c3fe-8067dad5db0d"
      },
      "execution_count": 18,
      "outputs": [
        {
          "output_type": "stream",
          "name": "stdout",
          "text": [
            "{'perestiş': 'Taparcasına sevme hali.', 'lafügüzaf': 'Boş, anlamsız veya gereksiz şeyler sözler söyleme eğiliminde olan kişileri veya bu tür sözleri ifade eden bir sıfattır.', 'saye': 'Farsça gölge demektir.', 'apansız': 'Ansızın, umulmadık ve beklenmedik bir zaman.', 'narin': 'Kırılacak denli ince.', 'hüzün ': 'İçsel duygulanım, gönül üzgünlüğü, iç kapanıklığı,üzüntü.', 'sergüzeşt': 'Serüven, macera.', 'nahif': 'Cılız, çelimsiz, zayıf.', 'merhamet': 'Acıma duygusu.', 'buhran': 'Bunalım, bunluk.', 'kadim': 'Pek çok eskiye uzanan, öncesiz.', 'perişan': 'Dağınık, düzensiz, karmakarışık olan; berduş.'}\n",
            "Silmek istediğiniz öğeyi giriniz=narin\n",
            "Öğe silindi.\n",
            "{'perestiş': 'Taparcasına sevme hali.', 'lafügüzaf': 'Boş, anlamsız veya gereksiz şeyler sözler söyleme eğiliminde olan kişileri veya bu tür sözleri ifade eden bir sıfattır.', 'saye': 'Farsça gölge demektir.', 'apansız': 'Ansızın, umulmadık ve beklenmedik bir zaman.', 'hüzün ': 'İçsel duygulanım, gönül üzgünlüğü, iç kapanıklığı,üzüntü.', 'sergüzeşt': 'Serüven, macera.', 'nahif': 'Cılız, çelimsiz, zayıf.', 'merhamet': 'Acıma duygusu.', 'buhran': 'Bunalım, bunluk.', 'kadim': 'Pek çok eskiye uzanan, öncesiz.', 'perişan': 'Dağınık, düzensiz, karmakarışık olan; berduş.'}\n"
          ]
        }
      ]
    },
    {
      "cell_type": "code",
      "source": [
        "print(sözlük)\n",
        "güncellenecekterim= input(\"Güncellemek istediğiniz öğeyi giriniz:\")\n",
        "güncelanlam= input(\"Güncel anlamı giriniz:\")\n",
        "sözlük[güncellenecekterim]= güncelanlam\n",
        "print(\"Güncelleme tamamlandı.\")\n",
        "print(sözlük)\n",
        "\n"
      ],
      "metadata": {
        "id": "TvQNxanoRVQD",
        "colab": {
          "base_uri": "https://localhost:8080/"
        },
        "outputId": "52aa6611-7fb3-43c6-e18f-b018f3be4d53"
      },
      "execution_count": 13,
      "outputs": [
        {
          "output_type": "stream",
          "name": "stdout",
          "text": [
            "{'perestiş': 'Taparcasına sevme hali.', 'lafügüzaf': 'Boş, anlamsız veya gereksiz şeyler sözler söyleme eğiliminde olan kişileri veya bu tür sözleri ifade eden bir sıfattır.', 'saye': 'Farsça gölge demektir.', 'apansız': 'Ansızın, umulmadık ve beklenmedik bir zaman.', 'hüzün ': 'İçsel duygulanım, gönül üzgünlüğü, iç kapanıklığı,üzüntü.', 'sergüzeşt': 'Serüven, macera.', 'nahif': 'Cılız, çelimsiz, zayıf.', 'merhamet': 'Acıma duygusu.', 'buhran': 'Bunalım, bunluk.', 'Güncellemek istediğiniz öğeyi giriniz:': 'Güncel anlamı giriniz:'}\n",
            "Güncellemek istediğiniz öğeyi giriniz:saye\n",
            "Güncel anlamı giriniz:Farsça gölge.\n",
            "Güncelleme tamamlandı.\n",
            "{'perestiş': 'Taparcasına sevme hali.', 'lafügüzaf': 'Boş, anlamsız veya gereksiz şeyler sözler söyleme eğiliminde olan kişileri veya bu tür sözleri ifade eden bir sıfattır.', 'saye': 'Farsça gölge.', 'apansız': 'Ansızın, umulmadık ve beklenmedik bir zaman.', 'hüzün ': 'İçsel duygulanım, gönül üzgünlüğü, iç kapanıklığı,üzüntü.', 'sergüzeşt': 'Serüven, macera.', 'nahif': 'Cılız, çelimsiz, zayıf.', 'merhamet': 'Acıma duygusu.', 'buhran': 'Bunalım, bunluk.', 'Güncellemek istediğiniz öğeyi giriniz:': 'Güncel anlamı giriniz:'}\n"
          ]
        }
      ]
    },
    {
      "cell_type": "code",
      "source": [
        "arananTerim= input(\" Aramak istediğiniz terimi giriniz:\")\n",
        "print(sözlük[arananTerim])"
      ],
      "metadata": {
        "id": "ubkVVHyeUVEb",
        "colab": {
          "base_uri": "https://localhost:8080/"
        },
        "outputId": "6cb425b5-8515-49dd-b042-0e6574aa3d15"
      },
      "execution_count": 14,
      "outputs": [
        {
          "output_type": "stream",
          "name": "stdout",
          "text": [
            " Aramak istediğiniz terimi giriniz:saye\n",
            "Farsça gölge.\n"
          ]
        }
      ]
    }
  ]
}