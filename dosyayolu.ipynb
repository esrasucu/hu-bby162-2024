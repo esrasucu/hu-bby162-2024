{
  "nbformat": 4,
  "nbformat_minor": 0,
  "metadata": {
    "colab": {
      "provenance": [],
      "mount_file_id": "17mOO5dclqWcaY2OIgbjCfa5IjNsdM5gs",
      "authorship_tag": "ABX9TyNaho9bmfwp4NyaVVVVCAqH",
      "include_colab_link": true
    },
    "kernelspec": {
      "name": "python3",
      "display_name": "Python 3"
    },
    "language_info": {
      "name": "python"
    }
  },
  "cells": [
    {
      "cell_type": "markdown",
      "metadata": {
        "id": "view-in-github",
        "colab_type": "text"
      },
      "source": [
        "<a href=\"https://colab.research.google.com/github/esrasucu/hu-bby162-2024/blob/main/dosyayolu.ipynb\" target=\"_parent\"><img src=\"https://colab.research.google.com/assets/colab-badge.svg\" alt=\"Open In Colab\"/></a>"
      ]
    },
    {
      "cell_type": "code",
      "execution_count": 5,
      "metadata": {
        "colab": {
          "base_uri": "https://localhost:8080/"
        },
        "id": "y9f8mpfJhBkf",
        "outputId": "1d7d4741-7b27-4dab-beb8-5c5f49da7afa"
      },
      "outputs": [
        {
          "name": "stdout",
          "output_type": "stream",
          "text": [
            "Adınızı soyadınızı giriniz:esra sucu\n",
            "Eposta adresinizi giriniz:esrasucu17@gmail.com\n"
          ]
        }
      ],
      "source": [
        "##dosyayolu\n",
        "dosya =\"/content/drive/MyDrive/Colab Notebooks/veri.txt\"\n",
        "\n",
        "##dosyanın oluşturulması ve temizlenmesi\n",
        "sistem = open(dosya, \"w\")\n",
        "sistem.close()\n",
        "\n",
        "##yeni kayıt ekleme\n",
        "adSoyad= input(\"Adınızı soyadınızı giriniz:\")\n",
        "ePosta= input(\"Eposta adresinizi giriniz:\")\n",
        "\n",
        "dosyaYaz= open(dosya, \"a\")\n",
        "dosyaYaz.write(adSoyad+\" - \"+ePosta+\"\\n\")\n",
        "dosyaYaz.close\n",
        "\n",
        "##kayıtları okuma\n",
        "dosyaOku = open(dosya, \"r\")\n",
        "for satir in dosyaOku.readlines():\n",
        "  print(satir)\n",
        "dosyaOku.close()"
      ]
    }
  ]
}